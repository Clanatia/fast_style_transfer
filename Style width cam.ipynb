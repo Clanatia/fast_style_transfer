{
 "cells": [
  {
   "cell_type": "code",
   "execution_count": 2,
   "metadata": {
    "collapsed": false
   },
   "outputs": [
    {
     "name": "stdout",
     "output_type": "stream",
     "text": [
      "(480, 640, 3)\n"
     ]
    }
   ],
   "source": [
    "#opencv python 부분\n",
    "import cv2   #opencv import\n",
    "\n",
    "cap = cv2.VideoCapture(0)  #parameta 0은 컴퓨터와 연결된 usb cam설정을 불러옴\n",
    "\n",
    "ret, frame = cap.read()    #Style transfer 의 입력값의 크기를 설정하기 위해 한프레임을 가져온다.\n",
    "print(frame.shape)         #usb cam 이미지 크기 출력\n",
    "\n",
    "#opencv python 부분\n",
    "\n",
    "\n",
    "from __future__ import print_function\n",
    "import sys\n",
    "sys.path.insert(0, 'src')\n",
    "\n",
    "import transform, numpy as np, vgg, pdb, os\n",
    "import scipy.misc\n",
    "import tensorflow as tf\n",
    "from utils import save_img, get_img, exists, list_files\n",
    "from argparse import ArgumentParser\n",
    "from collections import defaultdict\n",
    "import numpy\n",
    "\n",
    "batch_size = 1\n",
    "\n",
    "\n",
    "g = tf.Graph()    #tensor 그래프 초기화\n",
    "soft_config = tf.ConfigProto(allow_soft_placement=True)\n",
    "#명시된 디바이스가 존재하지 않는 경우 실행 디바이스를 TensorFlow가 자동으로 존재하는 디바이 스 중 선택\n",
    "soft_config.gpu_options.allow_growth = True  \n",
    "# session에서 필요로하는 메모리를 최소한으로 할당한 후 필요할 때마다 점진적으로 늘려가면서 메모리를 추가할당\n",
    "\n",
    "#checkpoint_dir = \"checkpoints\"\n",
    "#checkpoint_dir = checkpoints/la_muse.ckpt\n",
    "#checkpoint_dir = checkpoints/rain_princess.ckpt\n",
    "#checkpoint_dir = checkpoints/scream.ckpt\n",
    "#checkpoint_dir = checkpoints/udnie.ckpt\n",
    "#checkpoint_dir = checkpoints/wave.ckpt\n",
    "checkpoint_dir = checkpoints/wreck.ckpt\n",
    "\n",
    "#g.device('/gpu:0') => 학습할때는 GPU를 쓰는게 좋지만 일반적인 트레이닝 데이터로 결과를 만들어 낼때는 CPU를 사용하는것이 더 빠르다\n",
    "with g.as_default(), g.device('/gpu:0'), tf.Session(config=soft_config) as sess:\n",
    "    batch_shape = (batch_size,) +  frame.shape\n",
    "    #batch_shape = (1, height, width , channel)\n",
    "    \n",
    "    img_placeholder = tf.placeholder(tf.float32, shape=batch_shape, name='img_placeholder')\n",
    "\n",
    "    preds = transform.net(img_placeholder)\n",
    "    \n",
    "    #train 된 style 효과들을 불러온다\n",
    "    saver = tf.train.Saver()\n",
    "    if os.path.isdir(checkpoint_dir):\n",
    "        ckpt = tf.train.get_checkpoint_state(checkpoint_dir)\n",
    "        if ckpt and ckpt.model_checkpoint_path:\n",
    "            saver.restore(sess, ckpt.model_checkpoint_path)\n",
    "        else:\n",
    "            raise Exception(\"No checkpoint found...\")\n",
    "    else:\n",
    "        saver.restore(sess, checkpoint_dir)\n",
    "    #train 된 style 효과들을 불러온다\n",
    "    \n",
    "    X = np.zeros(batch_shape, dtype=np.float32)\n",
    "    #input 데이터 크기를 할당한다\n",
    "    \n",
    "    while(True):\n",
    "        #cap에서 이미지를 불러온다\n",
    "        #ret는 이미지를 불러오는게 성공할 경우 1, 아니면 0\n",
    "        #frame 는 이미지\n",
    "        ret, frame = cap.read()\n",
    "        \n",
    "        #gray = cv2.cvtColor(frame, cv2.COLOR_BGR2GRAY)\n",
    "        \n",
    "        #X는 (1, height, width , channel) 이기 때문에 X[0]으로 집어 넣어야 한다. (X[0] = ( height, width , channel) )\n",
    "        X[0] = frame\n",
    "        \n",
    "        _preds = sess.run(preds, feed_dict={img_placeholder:X})        \n",
    "        #_preds.shape = (1, height, width , channel) \n",
    "        \n",
    "        #np.clip 는 현재 설덩 해놓은 0 과  255사이의 값으로 바꿔준다.\n",
    "        image = np.clip(_preds[0], 0, 255).astype(np.uint8)\n",
    "        \n",
    "        \n",
    "        # Display the resulting frame\n",
    "        cv2.imshow('frame',image)\n",
    "\n",
    "        if cv2.waitKey(30) & 0xFF == ord('q'): #waitKey의 value의 값이 너무 높으면 너무 자주 key값 확인을 해서 느려짐, 프레임에 맞게 설정\n",
    "            break\n",
    "\n",
    "\n",
    "\n",
    "cap.release()\n",
    "cv2.destroyAllWindows()"
   ]
  },
  {
   "cell_type": "code",
   "execution_count": null,
   "metadata": {
    "collapsed": true
   },
   "outputs": [],
   "source": []
  }
 ],
 "metadata": {
  "anaconda-cloud": {},
  "kernelspec": {
   "display_name": "Python [default]",
   "language": "python",
   "name": "python3"
  },
  "language_info": {
   "codemirror_mode": {
    "name": "ipython",
    "version": 3
   },
   "file_extension": ".py",
   "mimetype": "text/x-python",
   "name": "python",
   "nbconvert_exporter": "python",
   "pygments_lexer": "ipython3",
   "version": "3.5.2"
  }
 },
 "nbformat": 4,
 "nbformat_minor": 1
}
